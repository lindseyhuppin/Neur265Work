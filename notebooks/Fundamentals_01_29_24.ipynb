{
  "nbformat": 4,
  "nbformat_minor": 0,
  "metadata": {
    "colab": {
      "provenance": [],
      "include_colab_link": true
    },
    "kernelspec": {
      "name": "python3",
      "display_name": "Python 3"
    },
    "language_info": {
      "name": "python"
    }
  },
  "cells": [
    {
      "cell_type": "markdown",
      "metadata": {
        "id": "view-in-github",
        "colab_type": "text"
      },
      "source": [
        "<a href=\"https://colab.research.google.com/github/lindseyhuppin/Neur265Work/blob/main/notebooks/Fundamentals_01_29_24.ipynb\" target=\"_parent\"><img src=\"https://colab.research.google.com/assets/colab-badge.svg\" alt=\"Open In Colab\"/></a>"
      ]
    },
    {
      "cell_type": "markdown",
      "source": [
        "# Programming Fundamentals II: Data Structures\n",
        "\n",
        "In this notebook, we'll explore different types of data structures that Python can use to store information, namely **lists, tuples, and dictionaries.**"
      ],
      "metadata": {
        "id": "FZACfZEVgB1H"
      }
    },
    {
      "cell_type": "markdown",
      "source": [
        "## At the end of this notebook, you'll be able to:\n",
        "\n",
        "* Compare & contrast the types of structures that Python uses to store data points\n",
        "* Recognize & create lists, tuples, and dictionaries in Python\n",
        "* Index, slice, cast, and mutate lists\n",
        "* Understand the implications of mutability and object-oriented programming"
      ],
      "metadata": {
        "id": "KUaqfFghgH_c"
      }
    },
    {
      "cell_type": "markdown",
      "source": [
        "## A _list_ is a mutable collection of ordered items, that can be of mixed type.\n",
        "\n",
        "**Mutable** means that individual items in the object can be changed. Lists are mutable. Tuples and strings are not -- they're **immutable**.\n",
        "\n",
        "Lists are created using square brackets `[ ]`, and individual elements are separated by commas."
      ],
      "metadata": {
        "id": "vHS5CVFlgTpa"
      }
    },
    {
      "cell_type": "code",
      "source": [
        "# Create a list of 5 fruits\n",
        "fruits = ['banana','orange','apple','grape','tomato']"
      ],
      "metadata": {
        "id": "Q4RZ9szNgeeM"
      },
      "execution_count": 111,
      "outputs": []
    },
    {
      "cell_type": "markdown",
      "source": [
        "### Useful list functions\n",
        "\n",
        "- Check the length of your list by using `len(my_list)`\n",
        "- Use `my_list.append()` to add elements to a list\n",
        "- Remove elements by value by using `my_list.remove('value')`\n",
        "- Sort by using `my_list.sort()`"
      ],
      "metadata": {
        "id": "BUxTR2jRgsg8"
      }
    },
    {
      "cell_type": "code",
      "source": [
        "# Try different list functions\n",
        "print(len(fruits))\n",
        "fruits.append('pear')\n",
        "print(len(fruits))\n",
        "print(fruits)\n",
        "fruits.remove('tomato')\n",
        "print(len(fruits))\n",
        "print(fruits)\n",
        "# How does the sort function sort your list?\n",
        "fruits.sort()\n",
        "print(fruits)\n",
        "## The list is being sorted alphabetically."
      ],
      "metadata": {
        "id": "pznW52D1hDto",
        "outputId": "819d363e-c937-49f7-820e-d033d9da095e",
        "colab": {
          "base_uri": "https://localhost:8080/"
        }
      },
      "execution_count": 112,
      "outputs": [
        {
          "output_type": "stream",
          "name": "stdout",
          "text": [
            "5\n",
            "6\n",
            "['banana', 'orange', 'apple', 'grape', 'tomato', 'pear']\n",
            "5\n",
            "['banana', 'orange', 'apple', 'grape', 'pear']\n",
            "['apple', 'banana', 'grape', 'orange', 'pear']\n"
          ]
        }
      ]
    },
    {
      "cell_type": "code",
      "source": [
        "# Try the following code:\n",
        "\n",
        "fruits.sort(reverse=True)\n",
        "print(fruits)\n",
        "\n",
        "# How is your list sorted now?\n",
        "## The list is sorted in reverse, so the opposite of alphabetically."
      ],
      "metadata": {
        "id": "NdNX0kkUh0tE",
        "outputId": "aebdb839-8c90-44e2-d3a0-2e521a38500f",
        "colab": {
          "base_uri": "https://localhost:8080/"
        }
      },
      "execution_count": 113,
      "outputs": [
        {
          "output_type": "stream",
          "name": "stdout",
          "text": [
            "['pear', 'orange', 'grape', 'banana', 'apple']\n"
          ]
        }
      ]
    },
    {
      "cell_type": "markdown",
      "source": [
        "### List indexing & slicing\n",
        "\n",
        "**Indexing** refers to selecting an item from within a collection (e.g., lists, tuples, and strings). Indexing is done by placing the **index number** in square brackets, directly after the list variable.\n",
        "\n",
        "For example, if `my_list = [1,3,5]`, we can get the second value using `my_list[1]`. (Python starts indexing at zero!)"
      ],
      "metadata": {
        "id": "_4nggv26hG2o"
      }
    },
    {
      "cell_type": "code",
      "source": [
        "# Output the first value of your 'fruits' list\n",
        "print(fruits[0])\n",
        "\n",
        "\n",
        "# Output the fourth value of your 'fruits' list\n",
        "print(fruits[3])\n",
        "\n",
        "print(fruits[-1])"
      ],
      "metadata": {
        "id": "Dcdev3yOhSs6",
        "outputId": "f89b4d4b-0d39-4d32-e808-d47caebc353b",
        "colab": {
          "base_uri": "https://localhost:8080/"
        }
      },
      "execution_count": 114,
      "outputs": [
        {
          "output_type": "stream",
          "name": "stdout",
          "text": [
            "pear\n",
            "banana\n",
            "apple\n"
          ]
        }
      ]
    },
    {
      "cell_type": "markdown",
      "source": [
        "You can also index in the reverse direction - the final value in a list is `-1`, with the order of numbers decreasing in the reverse direction (for example, the second-to-last value in a list is `-2`, the value before that is `-3`, etc.)"
      ],
      "metadata": {
        "id": "GdZbY4K7i-6c"
      }
    },
    {
      "cell_type": "markdown",
      "source": [
        "### If we want multiple items, we can **slice** the list.\n",
        "\n",
        "There are a few ways to slice:\n",
        "\n",
        "1. We can **slice** a part of a list using the syntax `[start:stop]`, which extracts characters between index start (0) and stop (-1).\n",
        "\n",
        "**Notes**\n",
        "\n",
        "- `start` is __included__ then every element __until__ `stop` is included.\n",
        "- Negative values count backwards through the list."
      ],
      "metadata": {
        "id": "uQTKSmfci2IF"
      }
    },
    {
      "cell_type": "markdown",
      "source": [
        "2. If we omit either (or both) of start or stop from `[start:stop]`, the default is the beginning and the end of the string, respectively, e.g. `[:3]`\n",
        "\n",
        "3. We can also define the step size (instead of default 1) using the syntax `[start:stop:step]`"
      ],
      "metadata": {
        "id": "PQ5P5sp5j7Er"
      }
    },
    {
      "cell_type": "markdown",
      "source": [
        "<b>Task:</b> For our list of fruits, create three different slices, and save them as different variables:\n",
        "\n",
        "1. A slice of the first two fruits.\n",
        "2. A slice of the middle three fruits.\n",
        "3. A slice of the last fruit."
      ],
      "metadata": {
        "id": "mrTase5okPlB"
      }
    },
    {
      "cell_type": "code",
      "source": [
        "# Your code here!\n",
        "# start value is included, stop is not included\n",
        "\n",
        "#1\n",
        "two_fruits = fruits[:2]\n",
        "print(two_fruits)\n",
        "#2\n",
        "middle_fruits = fruits[1:4]\n",
        "print(middle_fruits)\n",
        "#3\n",
        "last_fruit = fruits[-1:]\n",
        "print(last_fruit)"
      ],
      "metadata": {
        "id": "jahAUklYkarf",
        "outputId": "3ce8a3c8-a1e0-4c3f-d466-30124ea8838e",
        "colab": {
          "base_uri": "https://localhost:8080/"
        }
      },
      "execution_count": 115,
      "outputs": [
        {
          "output_type": "stream",
          "name": "stdout",
          "text": [
            "['pear', 'orange']\n",
            "['orange', 'grape', 'banana']\n",
            "['apple']\n"
          ]
        }
      ]
    },
    {
      "cell_type": "markdown",
      "source": [
        "### Checking length\n",
        "\n",
        "We can use the function `len( )` to check the length of lists.\n",
        "\n",
        "**Note**: We can also use this to get the number of characters in a string!"
      ],
      "metadata": {
        "id": "cZ8A-U-okebM"
      }
    },
    {
      "cell_type": "code",
      "source": [
        "# Check the length of your 'fruits' list!\n",
        "len('fruit')"
      ],
      "metadata": {
        "id": "rWbmMFvukmsZ",
        "outputId": "bc8e0f5a-b922-40c0-e383-d86b7ff4c51b",
        "colab": {
          "base_uri": "https://localhost:8080/"
        }
      },
      "execution_count": 116,
      "outputs": [
        {
          "output_type": "execute_result",
          "data": {
            "text/plain": [
              "5"
            ]
          },
          "metadata": {},
          "execution_count": 116
        }
      ]
    },
    {
      "cell_type": "markdown",
      "source": [
        "### Checking membership\n",
        "\n",
        "We can use `in` to see if an item exists in a list. The `in` operator checks whether an element is present in a collection, and can be negated with `not` (e.g., `value not in list`)."
      ],
      "metadata": {
        "id": "PJIU8K26ktF-"
      }
    },
    {
      "cell_type": "code",
      "source": [
        "# Is orange a fruit in your list?\n",
        "\n",
        "'orange' in fruits\n",
        "\n"
      ],
      "metadata": {
        "id": "P-rlqkzglI_7",
        "outputId": "9de60ddb-23c0-4896-9027-0c0fd8a4d268",
        "colab": {
          "base_uri": "https://localhost:8080/"
        }
      },
      "execution_count": 117,
      "outputs": [
        {
          "output_type": "execute_result",
          "data": {
            "text/plain": [
              "True"
            ]
          },
          "metadata": {},
          "execution_count": 117
        }
      ]
    },
    {
      "cell_type": "code",
      "source": [
        "# Make some code to see if 'apple' is *not* included in your list\n",
        "\n",
        "'apple' not in fruits"
      ],
      "metadata": {
        "id": "ya-CIy50m1l_",
        "outputId": "80a6b7e0-2370-471c-ed8f-1d7b2bb7ca01",
        "colab": {
          "base_uri": "https://localhost:8080/"
        }
      },
      "execution_count": 118,
      "outputs": [
        {
          "output_type": "execute_result",
          "data": {
            "text/plain": [
              "False"
            ]
          },
          "metadata": {},
          "execution_count": 118
        }
      ]
    },
    {
      "cell_type": "markdown",
      "source": [
        "### Mutating lists\n",
        "\n",
        "After definition, we can update members of our list _because lists are mutable!_\n",
        "\n",
        "An example of this is below:"
      ],
      "metadata": {
        "id": "P5IQE1Pkn0kQ"
      }
    },
    {
      "cell_type": "code",
      "source": [
        "# Let's replace the first item in our fruits list with 'coconut'\n",
        "\n",
        "fruits[0] = 'coconut'\n",
        "fruits"
      ],
      "metadata": {
        "id": "BPl_zKTboV4_",
        "outputId": "1a938fc4-d5fa-43ae-daff-5283d4185843",
        "colab": {
          "base_uri": "https://localhost:8080/"
        }
      },
      "execution_count": 119,
      "outputs": [
        {
          "output_type": "execute_result",
          "data": {
            "text/plain": [
              "['coconut', 'orange', 'grape', 'banana', 'apple']"
            ]
          },
          "metadata": {},
          "execution_count": 119
        }
      ]
    },
    {
      "cell_type": "markdown",
      "source": [
        "<b>Task:</b> Replace the last item in your `fruits` list with 'gooseberry'"
      ],
      "metadata": {
        "id": "sTthRjSxod1Q"
      }
    },
    {
      "cell_type": "code",
      "source": [
        "# Your code here\n",
        "fruits[1:4] = ['gooseberry','gooseberry','gooseberry']\n",
        "fruits"
      ],
      "metadata": {
        "id": "gVI_xYt5om1t",
        "outputId": "6b217052-1d80-42cf-f77d-896e4864b23d",
        "colab": {
          "base_uri": "https://localhost:8080/"
        }
      },
      "execution_count": 120,
      "outputs": [
        {
          "output_type": "execute_result",
          "data": {
            "text/plain": [
              "['coconut', 'gooseberry', 'gooseberry', 'gooseberry', 'apple']"
            ]
          },
          "metadata": {},
          "execution_count": 120
        }
      ]
    },
    {
      "cell_type": "markdown",
      "source": [
        "### Creating lists of lists\n",
        "\n",
        "Sometimes, it's useful to create lists of lists. Often, if we import big datasets as lists, this is how it will be organized."
      ],
      "metadata": {
        "id": "mhyxAl4Qk3SB"
      }
    },
    {
      "cell_type": "code",
      "source": [
        "gene_1 = ['gene1',0.48,0.55]\n",
        "gene_2 = ['gene2',0.38,0.85]\n",
        "gene_3 = ['gene3',0.21,0.81]\n",
        "all_genes = [gene_1, gene_2, gene_3]\n",
        "\n",
        "# We can use this syntax to get a specific value\n",
        "print(all_genes[0][-1])\n",
        "print(all_genes[1][1])"
      ],
      "metadata": {
        "id": "1NlVKjLGnRWC",
        "outputId": "7c5f2cb6-4111-4eab-bf04-af2c09e0f421",
        "colab": {
          "base_uri": "https://localhost:8080/"
        }
      },
      "execution_count": 143,
      "outputs": [
        {
          "output_type": "stream",
          "name": "stdout",
          "text": [
            "0.55\n",
            "0.38\n"
          ]
        },
        {
          "output_type": "execute_result",
          "data": {
            "text/plain": [
              "list"
            ]
          },
          "metadata": {},
          "execution_count": 143
        }
      ]
    },
    {
      "cell_type": "markdown",
      "source": [
        "## A _tuple_ is an **immutable** collection of ordered items, that can be of mixed type.\n",
        "\n",
        "* Tuples are created using parentheses.\n",
        "* Indexing works similar to lists."
      ],
      "metadata": {
        "id": "XWuaK7JYpBFW"
      }
    },
    {
      "cell_type": "code",
      "source": [
        "# Define a tuple\n",
        "tup = (2, 'b', False)\n",
        "tup[1]\n",
        "print(type(tup[-1]))\n",
        "list = [2, 'b', False]\n",
        "print(list[-1])"
      ],
      "metadata": {
        "id": "EhEIptUBpFJz",
        "outputId": "5528864f-85c6-401b-9d7c-3abd6c560cf0",
        "colab": {
          "base_uri": "https://localhost:8080/"
        }
      },
      "execution_count": 148,
      "outputs": [
        {
          "output_type": "stream",
          "name": "stdout",
          "text": [
            "<class 'bool'>\n",
            "False\n"
          ]
        }
      ]
    }
  ]
}