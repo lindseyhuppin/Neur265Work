{
  "nbformat": 4,
  "nbformat_minor": 0,
  "metadata": {
    "colab": {
      "provenance": [],
      "include_colab_link": true
    },
    "kernelspec": {
      "name": "python3",
      "display_name": "Python 3"
    },
    "language_info": {
      "name": "python"
    }
  },
  "cells": [
    {
      "cell_type": "markdown",
      "metadata": {
        "id": "view-in-github",
        "colab_type": "text"
      },
      "source": [
        "<a href=\"https://colab.research.google.com/github/lindseyhuppin/Neur265Work/blob/main/notebooks/Pandas_02_07_24.ipynb\" target=\"_parent\"><img src=\"https://colab.research.google.com/assets/colab-badge.svg\" alt=\"Open In Colab\"/></a>"
      ]
    },
    {
      "cell_type": "markdown",
      "source": [
        "# Pandas\n",
        "\n",
        "In this notebook, we'll encounter another package for scientific computing in Python: Pandas.\n",
        "\n",
        "**At the end of this notebook, you'll be able to:**\n",
        "\n",
        "* Create & manipulate Pandas dataframes"
      ],
      "metadata": {
        "id": "OWFmCohfhrBG"
      }
    },
    {
      "cell_type": "markdown",
      "source": [
        "## Importing packages\n",
        "\n",
        "Before we can use pandas, we need to import it. We can also nickname modules when we import them.\n",
        "\n",
        "The convention is to import `pandas` as `pd`."
      ],
      "metadata": {
        "id": "wLYMwpO4iLAg"
      }
    },
    {
      "cell_type": "code",
      "source": [
        "# Import pandas here!\n",
        "\n",
        "\n",
        "\n",
        "# Use whos 'magic command' to see available modules\n",
        "%whos"
      ],
      "metadata": {
        "id": "AAh2nlvPidKe"
      },
      "execution_count": null,
      "outputs": []
    },
    {
      "cell_type": "markdown",
      "source": [
        "Pandas is a useful module that creates **dataframes** (think of these like Excel spreadsheets, but much faster!).\n",
        "\n",
        "We can think of Pandas as \\\"numpy with labels\\\"."
      ],
      "metadata": {
        "id": "FZZuspGhivGJ"
      }
    },
    {
      "cell_type": "markdown",
      "source": [
        "### Benefits of Pandas\n",
        "\n",
        "* Great for real-world, heterogeneous data\n",
        "* Similar to Excel spreadsheets (but way faster!)\n",
        "* Smartly deals with missing data\n",
        "\n",
        "We can work with our Allen Brain Institute patch-seq data as a Pandas dataframe!"
      ],
      "metadata": {
        "id": "1G28sQJ6i8jU"
      }
    },
    {
      "cell_type": "markdown",
      "source": [
        "><b>Task:</b> Import the `patch_seq.csv` file from our GitHub repo in the Code cell below! Assign it to a Pandas dataframe called `cell_types`.\n",
        "\n",
        "\n",
        "\n"
      ],
      "metadata": {
        "id": "Jp8EwDf4jYue"
      }
    },
    {
      "cell_type": "code",
      "source": [
        "# Import the patch-seq dataset!\n"
      ],
      "metadata": {
        "id": "NkSIiqLJjTEt"
      },
      "execution_count": null,
      "outputs": []
    },
    {
      "cell_type": "markdown",
      "source": [
        "## Selecting columns and rows\n",
        "\n",
        "Indexing in Pandas  works slightly different. Similar to a dictionary, we can index values by their names.\n",
        "\n",
        "* Use `df['index']` for columns"
      ],
      "metadata": {
        "id": "SiSZoWTrkFc8"
      }
    },
    {
      "cell_type": "code",
      "source": [
        "# Grab the column with the 'ISI' header\n",
        "\n",
        "cell_types['ISI']\n"
      ],
      "metadata": {
        "id": "-6Qp6bublp1g"
      },
      "execution_count": null,
      "outputs": []
    },
    {
      "cell_type": "markdown",
      "source": [
        "To get the first 5 rows of a dataframe, we can use a slice: `df[:5]`.\n",
        "\n",
        "This is a great way to get a sense for what kind of information is in the dataframe\n",
        "\n",
        "><b>Task:</b> Look at the first five rows of your `cell_types` dataframe below:"
      ],
      "metadata": {
        "id": "3VVeDdzzBdZQ"
      }
    },
    {
      "cell_type": "code",
      "source": [
        "# Your code here\n"
      ],
      "metadata": {
        "id": "om-6v82yCMMk"
      },
      "execution_count": null,
      "outputs": []
    },
    {
      "cell_type": "markdown",
      "source": [
        "We can combine our code to get the first five rows of a specific column like so:"
      ],
      "metadata": {
        "id": "qpt2wY8sCNY4"
      }
    },
    {
      "cell_type": "code",
      "source": [
        "cell_types['ISI'][:5]"
      ],
      "metadata": {
        "id": "oaz_k3HyCXwb"
      },
      "execution_count": null,
      "outputs": []
    },
    {
      "cell_type": "markdown",
      "source": [
        "><b>Task:</b> Try flipping the order of your column and row indices. Does Pandas still execute the command?"
      ],
      "metadata": {
        "id": "WyH5PJDOCjGd"
      }
    },
    {
      "cell_type": "markdown",
      "source": [
        "What's the most common ISI value? This is a really easy question to answer! There's a `.value_counts()` method that we can use (we'll have to round our values before we do this):"
      ],
      "metadata": {
        "id": "QHeEZxg7C82H"
      }
    },
    {
      "cell_type": "code",
      "source": [
        "# Get ISI counts\n",
        "\n",
        "cell_types['ISI'] = round(cell_types['ISI'])\n",
        "ISI_counts = cell_types['ISI'].value_counts()\n",
        "ISI_counts"
      ],
      "metadata": {
        "id": "z10b9VKmDWly"
      },
      "execution_count": null,
      "outputs": []
    },
    {
      "cell_type": "markdown",
      "source": [
        "We can visualize this with a bar graph by using the `.plot` method:"
      ],
      "metadata": {
        "id": "ZybT4QDdEL0S"
      }
    },
    {
      "cell_type": "code",
      "source": [
        "# Bar graph of ISI counts\n",
        "\n",
        "ISI_counts[:10].plot(kind = 'bar')"
      ],
      "metadata": {
        "id": "HTAVzJujEW_6"
      },
      "execution_count": null,
      "outputs": []
    },
    {
      "cell_type": "markdown",
      "source": [
        "><b>Task:</b> Go to the Pandas website (https://pandas.pydata.org/docs/reference/api/pandas.DataFrame.plot.html) and look at other options for the `kind` parameter in the `.plot` method. Try plotting your ISI counts using different types of graphs."
      ],
      "metadata": {
        "id": "0l6dVr8ZE-AQ"
      }
    },
    {
      "cell_type": "code",
      "source": [
        "# Plot your ISI value counts here!"
      ],
      "metadata": {
        "id": "6eK_8yxQFnYh"
      },
      "execution_count": null,
      "outputs": []
    },
    {
      "cell_type": "markdown",
      "source": [
        "><b>Task:</b> Make a pie chart of the values in your `'Marker'` column. Do you have an equal sampling of parvalbumin and somatostatin-expressing interneurons?"
      ],
      "metadata": {
        "id": "lXZlIRDoKdTc"
      }
    },
    {
      "cell_type": "markdown",
      "source": [
        "What if we only want to get ISI value counts from parvalbumin-expressing neurons? To do this, we'd need some way of indexing rows that contain the `'Pvalb'` string. The Pandas syntax for this is:"
      ],
      "metadata": {
        "id": "TRWiXRJMGDnC"
      }
    },
    {
      "cell_type": "code",
      "source": [
        "# Get ISI values from only parvalbumin interneurons\n",
        "\n",
        "pvalb_isi = cell_types[cell_types['Marker'] == \"Pvalb\"]\n",
        "pvalb_isi[:3]"
      ],
      "metadata": {
        "id": "6oLTyceKGnoh"
      },
      "execution_count": null,
      "outputs": []
    },
    {
      "cell_type": "markdown",
      "source": [
        "If you look at `pvalb_isi`, you'll see that this worked, and it only contains ISI values from one type of neuron. But how does this work? Let's deconstruct it into two pieces"
      ],
      "metadata": {
        "id": "SswGQpyCG8vx"
      }
    },
    {
      "cell_type": "code",
      "source": [
        "cell_types['Marker'] == \"Pvalb\""
      ],
      "metadata": {
        "id": "RxdkoXsrHJO_"
      },
      "execution_count": null,
      "outputs": []
    },
    {
      "cell_type": "markdown",
      "source": [
        "This is a big array of `Trues` and `Falses`, one for each row in our dataframe. When we index our dataframe with this array, we get just the rows where our boolean array evaluated to `True`. It's important to note that for row filtering by a boolean array the length of our dataframe's index must be the same length as the boolean array used for filtering."
      ],
      "metadata": {
        "id": "p2qa6w2aHV6A"
      }
    },
    {
      "cell_type": "markdown",
      "source": [
        ">Question: What do you notice about the equals signs in the above code? Why do you think are there two types of equals signs?"
      ],
      "metadata": {
        "id": "xiF8HOCxHjhR"
      }
    },
    {
      "cell_type": "markdown",
      "source": [
        "## A digression about Numpy arrays\n",
        "\n",
        "On the inside of a dataframe, the type of a column is `pd.Series`, and Pandas Series are internally numpy arrays. If you add `.values` to the end of any Series, you'll get its internal numpy array"
      ],
      "metadata": {
        "id": "da5hU0-BJT4f"
      }
    },
    {
      "cell_type": "code",
      "source": [
        "# Convert the ISI column in our Pandas dataframe into a Numpy array\n",
        "\n",
        "ISI_array = cell_types['ISI'].values\n",
        "type(ISI_array)"
      ],
      "metadata": {
        "id": "BXsMmWePJ5q1"
      },
      "execution_count": null,
      "outputs": []
    },
    {
      "cell_type": "markdown",
      "source": [
        "## Pandas methods and attributes\n",
        "\n",
        "Just like with Numpy, Pandas also has some unique attributes and methods you can use to work with your data\n",
        "\n",
        "* The `.shape` method lets you check the shape of your DataFrame\n",
        "* The `.append` method lets you add data to your DataFrame\n",
        "* The `.drop_duplicates` method will remove duplicate data\n"
      ],
      "metadata": {
        "id": "kXbRbUhmF9NX"
      }
    },
    {
      "cell_type": "code",
      "source": [
        "# Check the shape of your cell_types DataFrame\n",
        "\n",
        "cell_types.shape"
      ],
      "metadata": {
        "id": "wk-LiR6EHCuT"
      },
      "execution_count": null,
      "outputs": []
    },
    {
      "cell_type": "markdown",
      "source": [
        ">Question: What happens when you try to use parentheses with `.shape`? Why do you think this happens?"
      ],
      "metadata": {
        "id": "0udu9VDLHOCi"
      }
    },
    {
      "cell_type": "markdown",
      "source": [
        "><b>Task:</b> Create a new variable called `cell_temp`, and make it equal to `cell_types` with duplicates removed. What is the shape of `cell_temp`? What is its size?"
      ],
      "metadata": {
        "id": "XirNkEvRHeHu"
      }
    },
    {
      "cell_type": "code",
      "source": [
        "# Your code here!\n"
      ],
      "metadata": {
        "id": "SC0RAJTuHo-W"
      },
      "execution_count": null,
      "outputs": []
    },
    {
      "cell_type": "markdown",
      "source": [
        "><b>Task:</b> Create a bar plot of ISI values for your `cell_temp` DataFrame. How do you think the `.drop_duplicates` method works?"
      ],
      "metadata": {
        "id": "metwqPhbIuZP"
      }
    },
    {
      "cell_type": "code",
      "source": [
        "# Make a new bar plot"
      ],
      "metadata": {
        "id": "QvMvTnXiI6D2"
      },
      "execution_count": null,
      "outputs": []
    },
    {
      "cell_type": "markdown",
      "source": [
        "We can print the name of our columns using the `.column` method, and rename our column headers with the `.rename` method:"
      ],
      "metadata": {
        "id": "Uj7LhuYmKL8t"
      }
    },
    {
      "cell_type": "code",
      "source": [
        "print(cell_types.columns)\n",
        "cell_types_renamed = cell_types.rename(columns={'ISI': 'Inter-spike interval'})\n",
        "print(cell_types_renamed.columns)\n"
      ],
      "metadata": {
        "id": "PXay2684KSoq"
      },
      "execution_count": null,
      "outputs": []
    },
    {
      "cell_type": "markdown",
      "source": [
        "What if we want to make all names of columns lowercase? Instead of using `.rename`, we can also set a list of names to the columns like so:"
      ],
      "metadata": {
        "id": "f1YlM8qNNHts"
      }
    },
    {
      "cell_type": "code",
      "source": [
        "cell_types_renamed.columns = ['marker','inter-spike interval']\n",
        "print(cell_types_renamed.columns)"
      ],
      "metadata": {
        "id": "O-u_PBgdNQbT"
      },
      "execution_count": null,
      "outputs": []
    },
    {
      "cell_type": "markdown",
      "source": [
        "Finally, one really useful Pandas method is `.describe`. Try it out on your `cell_types` DataFrame and see what it returns."
      ],
      "metadata": {
        "id": "XwNnmbc4OYGw"
      }
    },
    {
      "cell_type": "code",
      "source": [
        "# Your code here!"
      ],
      "metadata": {
        "id": "O-XVzc9UN6ld"
      },
      "execution_count": null,
      "outputs": []
    },
    {
      "cell_type": "markdown",
      "source": [
        "><b>Task:</b> Use the `.describe` method on *just* your `'marker'` column, using the syntax `df['column'].describe()`"
      ],
      "metadata": {
        "id": "vSLrrzXJOyot"
      }
    },
    {
      "cell_type": "markdown",
      "source": [
        "## Indexing DataFrames\n",
        "\n",
        "Up until now we've focused on some basic summaries of our data. Below are the other methods of slicing, selecting, and extracting you'll need to use constantly.\n",
        "\n",
        "It's important to note that, although many methods are the same, DataFrames and Series have different attributes, so you'll need be sure to know which type you are working with or else you will receive attribute errors.\n",
        "\n",
        "Let's look at working with columns first.\n",
        "\n",
        "You already saw how to extract a column using square brackets like this:"
      ],
      "metadata": {
        "id": "UZJnu9gYPFCm"
      }
    },
    {
      "cell_type": "code",
      "source": [
        "ISI_col = cell_types['ISI']\n",
        "\n",
        "type(ISI_col)"
      ],
      "metadata": {
        "id": "Wh9jHUY2Pj7H"
      },
      "execution_count": null,
      "outputs": []
    },
    {
      "cell_type": "markdown",
      "source": [
        "This will return a Series. To extract a column as a DataFrame, you need to pass a list of column names. In our case that's just a single column:"
      ],
      "metadata": {
        "id": "jO1joN2xP4PJ"
      }
    },
    {
      "cell_type": "code",
      "source": [
        "ISI_col = cell_types[['ISI']]\n",
        "\n",
        "type(ISI_col)"
      ],
      "metadata": {
        "id": "ClTcGgrOP672"
      },
      "execution_count": null,
      "outputs": []
    },
    {
      "cell_type": "markdown",
      "source": [
        "For rows, we have two options:\n",
        "\n",
        "* `.loc` - **loc**ates by name\n",
        "* `.iloc`- **loc**ates by numerical **i**ndex\n",
        "\n",
        "Our rows aren't indexed by name (rows still correspond to numbered indices in our DataFrame), so we can use numbers for each method:"
      ],
      "metadata": {
        "id": "-hqDtEIiQOsp"
      }
    },
    {
      "cell_type": "code",
      "source": [
        "print(cell_types.loc[0])\n",
        "print(cell_types.iloc[0])"
      ],
      "metadata": {
        "id": "ANUWuTw5Qj2A"
      },
      "execution_count": null,
      "outputs": []
    },
    {
      "cell_type": "markdown",
      "source": [
        "`.loc` and `.iloc` can be thought of as similar to Python list slicing. To show this even further, let's select multiple rows.\n",
        "\n",
        "How would you do it with a list? In Python, just slice with brackets like `example_list[1:4]`. It's works the same way in Pandas:"
      ],
      "metadata": {
        "id": "mUqdzE2QRIfm"
      }
    },
    {
      "cell_type": "code",
      "source": [
        "print(cell_types.loc[1:4])\n",
        "print(cell_types.iloc[1:4])"
      ],
      "metadata": {
        "id": "8VovN9B1RPa4"
      },
      "execution_count": null,
      "outputs": []
    },
    {
      "cell_type": "markdown",
      "source": [
        ">Question: Do you notice any differences in output between `.loc` and `.iloc` when slicing rows?"
      ],
      "metadata": {
        "id": "gT_ikC-YRgCo"
      }
    },
    {
      "cell_type": "markdown",
      "source": [
        "To access a value in a specific row and a specific column, you can use `.iloc[row,column]`:"
      ],
      "metadata": {
        "id": "fIDJkGIuVORT"
      }
    },
    {
      "cell_type": "code",
      "source": [
        "cell_types.iloc[0,1]"
      ],
      "metadata": {
        "id": "42gWABTiVH3s"
      },
      "execution_count": null,
      "outputs": []
    },
    {
      "cell_type": "markdown",
      "source": [
        "You can also use Booleans to filter your DataFrame. We already did one example of this in this notebook - we filtered only rows that contain the string `'Pvalb'` out of our DataFrame with the syntax `df[df['column name'] == \"value\"]`. We can use other comparison operators to accomplish the same goal. A list of Boolean comparison operators in Python is below:\n",
        "\n",
        "| Operation | Meaning |\n",
        "|:---------:|:-------:|\n",
        "|   <       |strictly less than|\n",
        "| <=      | less than or equal|\n",
        "|   >     |strictly greater than|\n",
        "|  >=   |greater than or equal|\n",
        "|  ==  |equal|\n",
        "| !=  |not equal|\n",
        "\n"
      ],
      "metadata": {
        "id": "29HGYtI7RmIv"
      }
    },
    {
      "cell_type": "markdown",
      "source": [
        "><b>Task:</b> Create a new variable that contains ISI values greater than or equal to 5. Create a new variable that contains ISI values less than or equal to 7. Create a new variable that contains ISI values that are not equal to 10."
      ],
      "metadata": {
        "id": "e_mJv-V2UAPB"
      }
    },
    {
      "cell_type": "markdown",
      "source": [
        "We can make some richer conditionals by using logical operators `|` for \"or\" and `&` for \"and\"."
      ],
      "metadata": {
        "id": "Jqf5NRYoUrMP"
      }
    },
    {
      "cell_type": "code",
      "source": [
        "types_temp = cell_types[(cell_types['Marker'] == \"Pvalb\") & (cell_types['ISI'] > 4)]\n",
        "print(types_temp)"
      ],
      "metadata": {
        "id": "a3qTYjfTVnP9"
      },
      "execution_count": null,
      "outputs": []
    },
    {
      "cell_type": "markdown",
      "source": [
        "><b>Task:</b> Create a new DataFrame with the following attributes:\n",
        "\n",
        "* Must only contain ISI values from somatostatin interneurons\n",
        "* ISI values must be less than 2, **or** greater than 8\n",
        "* Verify that you did this correctly by creating a second DataFrame that contains ISI values from your first DataFrame that are greater than 2, **or** less than 8"
      ],
      "metadata": {
        "id": "L62dFaapWRGY"
      }
    }
  ]
}