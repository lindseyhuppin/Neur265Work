{
  "nbformat": 4,
  "nbformat_minor": 0,
  "metadata": {
    "colab": {
      "provenance": [],
      "authorship_tag": "ABX9TyOJb9zDZgsap+4SQ9uCffqK",
      "include_colab_link": true
    },
    "kernelspec": {
      "name": "python3",
      "display_name": "Python 3"
    },
    "language_info": {
      "name": "python"
    }
  },
  "cells": [
    {
      "cell_type": "markdown",
      "metadata": {
        "id": "view-in-github",
        "colab_type": "text"
      },
      "source": [
        "<a href=\"https://colab.research.google.com/github/lindseyhuppin/Neur265Work/blob/main/finalProject/FinalPosterPresentation.ipynb\" target=\"_parent\"><img src=\"https://colab.research.google.com/assets/colab-badge.svg\" alt=\"Open In Colab\"/></a>"
      ]
    },
    {
      "cell_type": "markdown",
      "source": [
        "This code is written for the Methods and Results portion of the Final Poster Presentation in Intro to Neural Data Analysis.\n",
        "\n",
        "Lindsey Huppin\n",
        "\n",
        "4/21/24"
      ],
      "metadata": {
        "id": "bBFr_JH5RpLj"
      }
    },
    {
      "cell_type": "markdown",
      "source": [
        "####Notes on data:\n",
        "\n",
        "column information:\n",
        "\n",
        "0 = index value\n",
        "\n",
        "1 = patient ID\n",
        "\n",
        "2 = cognitive status\n",
        "\n",
        "3 = fresh brain weight\n",
        "\n",
        "4 = number of pTDP43 positive cells per area_Grey matter\n",
        "\n",
        "5 = total Iba1 positive area_Grey matter\n",
        "\n",
        "6 = number of 6e10 positive objects per area_Grey matter\n",
        "\n",
        "7 = total GFAP positive area_Grey matter"
      ],
      "metadata": {
        "id": "Wq5QwMgYcNMN"
      }
    },
    {
      "cell_type": "code",
      "source": [
        "#adding libraries\n",
        "import numpy as np"
      ],
      "metadata": {
        "id": "ohgJUyVsmTgz"
      },
      "execution_count": 1,
      "outputs": []
    },
    {
      "cell_type": "code",
      "source": [
        "#Importing the data as .csv files, edited from the original data source\n",
        "data = np.loadtxt('')"
      ],
      "metadata": {
        "id": "ulF1DEpHSRkQ"
      },
      "execution_count": null,
      "outputs": []
    }
  ]
}