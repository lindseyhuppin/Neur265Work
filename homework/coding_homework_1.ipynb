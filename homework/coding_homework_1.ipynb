{
  "nbformat": 4,
  "nbformat_minor": 0,
  "metadata": {
    "colab": {
      "provenance": [],
      "include_colab_link": true
    },
    "kernelspec": {
      "name": "python3",
      "display_name": "Python 3"
    },
    "language_info": {
      "name": "python"
    }
  },
  "cells": [
    {
      "cell_type": "markdown",
      "metadata": {
        "id": "view-in-github",
        "colab_type": "text"
      },
      "source": [
        "<a href=\"https://colab.research.google.com/github/lindseyhuppin/Neur265Work/blob/main/homework/coding_homework_1.ipynb\" target=\"_parent\"><img src=\"https://colab.research.google.com/assets/colab-badge.svg\" alt=\"Open In Colab\"/></a>"
      ]
    },
    {
      "cell_type": "markdown",
      "source": [
        "# Coding Homework #1\n",
        "\n",
        "**Instructions** (Note: it is very important you follow these instructions in order!)\n",
        "\n",
        "1. Run the first *Code Cell* below.\n",
        "\n",
        "2. Make a *Markdown Cell* that contains the following information:\n",
        "  * Your name (small header)\n",
        "  * The name of this class (italicized)\n",
        "  * The date (bolded)\n",
        "\n",
        "3. **Important!**: For each *Code Cell* that you create, make at least one line of code with a `#` in front of it that describes what your code does.\n",
        "\n",
        "4. Make a *Code Cell* that turns `v_rest_sst.csv` into a `Pandas DataFrame` called `pandas_data1`, and `v_rest_pvalb.csv` into a `Pandas DataFrame` called `pandas_data2`. Recall that we covered how to import `.csv` files as `Pandas DataFrames` in our in-class coding activity on January 31st.\n",
        "\n",
        "5. Make a *Code Cell* that converts `pandas_data1` into a `list` variable called `data1`, and converts `pandas_data2` into a `list` variable called `data2`. The following syntax is an example of how to do this:\n",
        "\n",
        "\n",
        "```\n",
        "data1 = pandas_data1.values.tolist()\n",
        "```\n",
        "\n",
        "6. When you convert a `Pandas DataFrame` into a `list`, it brackets each individual element - we don't want that! To get around this issue, make a *Code Cell* that flattens `data1` and `data2` using the `numpy.squeeze()` function. Your first *Code Cell* imported the `NumPy` module as `np`, so we can use the following code to flatten `data1`:\n",
        "\n",
        "\n",
        "```\n",
        "data1 = np.squeeze(data1)\n",
        "```\n",
        "&nbsp;&nbsp;&nbsp;&nbsp;&nbsp;&nbsp;&nbsp;&nbsp;&nbsp;&nbsp;Repeat this for `data2`.\n",
        "\n",
        "7. Make a *Code Cell* that prints the length of `data1`.\n",
        "\n",
        "8. Make a *Code Cell* that prints the 3rd, 4th, 5th, and 6th elements of `data2`.\n",
        "\n",
        "9. Make a *Code Cell* that prints the second-to-last and last elements of `data1` (use negative indexing).\n",
        "\n",
        "10. Make a *Code Cell* that prints the `type` of `data2` by using the `type` function.\n",
        "\n",
        "11. The first *Code Cell* you ran imports a module called `matplotlib`. In a new *Code Cell*, use `matplotlib` to make a histogram of `data1`. You can use the syntax `plt.hist()` to do this (remember that the variable you are applying the function to goes inside of the parentheses).\n",
        "\n",
        "12. In a new *Code Cell*, re-make your histogram and use the `plt.xlabel()` and `plt.ylabel()` functions to label your axes.\n",
        "\n",
        "13. In a new *Code Cell*, follow the instructions in steps 11 and 12 to make another histogram with axis labels for `data2`.\n",
        "\n",
        "14. In a new *Markdown Cell*, write a brief description of any differences that you observe between your two histograms. Does one group of cells seem to have a higher/lower resting membrane potential than the other group of cells?\n",
        "\n",
        "15. In a new *Code Cell*, create a new variable called `data3`. Let `data3` be a list containing both `data1` and `data2`.\n",
        "\n",
        "16. Make a *Code Cell* that prints the last element of `data2`. You must index `data3` to do this.\n",
        "\n",
        "17. Save a copy of this notebook to your GitHub repo with the title \"coding_homework_1.pynb\"."
      ],
      "metadata": {
        "id": "R8xCV2iP1KZ_"
      }
    },
    {
      "cell_type": "code",
      "source": [
        "# Import matplotlib\n",
        "\n",
        "from matplotlib import pyplot as plt\n",
        "\n",
        "import pandas as pd\n",
        "\n",
        "import numpy as np"
      ],
      "metadata": {
        "id": "48IPWJIt59-Y"
      },
      "execution_count": 46,
      "outputs": []
    },
    {
      "cell_type": "markdown",
      "source": [
        "###Lindsey Huppin\n",
        "\n",
        "*Intro to Neural Data Analysis*\n",
        "\n",
        "**2/9/24**"
      ],
      "metadata": {
        "id": "ewpmbUcVmTfC"
      }
    },
    {
      "cell_type": "code",
      "source": [
        "#4. import .csv files using Pandas\n",
        "pandas_data1 = pd.read_csv('https://raw.githubusercontent.com/lindseyhuppin/Neur265Work/main/v_rest_sst.csv')\n",
        "pandas_data2 = pd.read_csv('https://raw.githubusercontent.com/lindseyhuppin/Neur265Work/main/v_rest_pvalb.csv')"
      ],
      "metadata": {
        "id": "pGMa04gmoFSV"
      },
      "execution_count": 47,
      "outputs": []
    },
    {
      "cell_type": "code",
      "source": [
        "#5. convert the data into lists\n",
        "data1 = pandas_data1.values.tolist()\n",
        "data2 = pandas_data2.values.tolist()"
      ],
      "metadata": {
        "id": "-TOwmnRBqvFH"
      },
      "execution_count": 48,
      "outputs": []
    },
    {
      "cell_type": "code",
      "source": [
        "#6. flatten the data by removing the brackets between values\n",
        "data1 = np.squeeze(data1)\n",
        "data2 = np.squeeze(data2)"
      ],
      "metadata": {
        "id": "iW-61v6twr3v"
      },
      "execution_count": 49,
      "outputs": []
    },
    {
      "cell_type": "code",
      "source": [
        "#7. printing length of sst data\n",
        "print(data1.size)"
      ],
      "metadata": {
        "id": "gv3XEY95rLoN",
        "outputId": "f69bb74e-6522-415a-db24-e8fd7a73b6cb",
        "colab": {
          "base_uri": "https://localhost:8080/"
        }
      },
      "execution_count": 50,
      "outputs": [
        {
          "output_type": "stream",
          "name": "stdout",
          "text": [
            "499\n"
          ]
        }
      ]
    },
    {
      "cell_type": "code",
      "source": [
        "#8. Printing elements 2,3,4,5 of pvalb data\n",
        "print(data2[2])\n",
        "print(data2[3])\n",
        "print(data2[4])\n",
        "print(data2[5])"
      ],
      "metadata": {
        "id": "lyyNOJxfrnqS",
        "outputId": "36623442-53c2-4fbd-e631-2560bf4772f4",
        "colab": {
          "base_uri": "https://localhost:8080/"
        }
      },
      "execution_count": 51,
      "outputs": [
        {
          "output_type": "stream",
          "name": "stdout",
          "text": [
            "-72.36807022\n",
            "-63.09300825\n",
            "-75.5469301\n",
            "-66.51929994\n"
          ]
        }
      ]
    },
    {
      "cell_type": "code",
      "source": [
        "#9. print second-last element of sst data\n",
        "print(data1[-2])\n",
        "#print last element of sst data\n",
        "print(data1[-1])"
      ],
      "metadata": {
        "id": "znyJ1Xa6sTt2",
        "outputId": "1fe45243-21e8-4ae8-fe3c-da82c965fc14",
        "colab": {
          "base_uri": "https://localhost:8080/"
        }
      },
      "execution_count": 52,
      "outputs": [
        {
          "output_type": "stream",
          "name": "stdout",
          "text": [
            "-65.59535842\n",
            "-75.10678711\n"
          ]
        }
      ]
    },
    {
      "cell_type": "code",
      "source": [
        "#10. printing type of pvalb data list\n",
        "print(type(data2))"
      ],
      "metadata": {
        "id": "mkDd1vw6s7A5",
        "outputId": "225e00fd-4cc2-4625-ead2-f3a3ed5a828e",
        "colab": {
          "base_uri": "https://localhost:8080/"
        }
      },
      "execution_count": 53,
      "outputs": [
        {
          "output_type": "stream",
          "name": "stdout",
          "text": [
            "<class 'numpy.ndarray'>\n"
          ]
        }
      ]
    },
    {
      "cell_type": "code",
      "source": [
        "#11. making a histogram of sst data\n",
        "plt.hist(data1)"
      ],
      "metadata": {
        "id": "kuUjOon2tQrD",
        "outputId": "3b5fa23a-10c3-443e-8851-28a2b71ec187",
        "colab": {
          "base_uri": "https://localhost:8080/",
          "height": 517
        }
      },
      "execution_count": 54,
      "outputs": [
        {
          "output_type": "execute_result",
          "data": {
            "text/plain": [
              "(array([  3.,   4.,  23.,  77., 125., 107.,  90.,  42.,  21.,   7.]),\n",
              " array([-88.07835484, -84.19758717, -80.31681949, -76.43605182,\n",
              "        -72.55528415, -68.67451648, -64.7937488 , -60.91298113,\n",
              "        -57.03221346, -53.15144578, -49.27067811]),\n",
              " <BarContainer object of 10 artists>)"
            ]
          },
          "metadata": {},
          "execution_count": 54
        },
        {
          "output_type": "display_data",
          "data": {
            "text/plain": [
              "<Figure size 640x480 with 1 Axes>"
            ],
            "image/png": "[encoded data removed]"
          },
          "metadata": {}
        }
      ]
    },
    {
      "cell_type": "code",
      "source": [
        "#12. making a histogram of sst data with labelled axises\n",
        "plt.hist(data1)\n",
        "plt.xlabel('Resting Potential (Volts)')\n",
        "plt.ylabel('Count')"
      ],
      "metadata": {
        "id": "3Mt2q8ylupHN",
        "outputId": "dd149e59-56ea-45cc-80c1-5f7a3f8018fd",
        "colab": {
          "base_uri": "https://localhost:8080/",
          "height": 466
        }
      },
      "execution_count": 55,
      "outputs": [
        {
          "output_type": "execute_result",
          "data": {
            "text/plain": [
              "Text(0, 0.5, 'Count')"
            ]
          },
          "metadata": {},
          "execution_count": 55
        },
        {
          "output_type": "display_data",
          "data": {
            "text/plain": [
              "<Figure size 640x480 with 1 Axes>"
            ],
            "image/png": "[encoded data removed]"
          },
          "metadata": {}
        }
      ]
    },
    {
      "cell_type": "code",
      "source": [
        "#13. making a histogram of pvalb data with labelled axises\n",
        "plt.hist(data2)\n",
        "plt.xlabel('Resting Potential (Volts)')\n",
        "plt.ylabel('Count')"
      ],
      "metadata": {
        "id": "QsQQk6UJvUYm",
        "outputId": "5d9d0d62-fc08-4bb7-8ac8-54086455a627",
        "colab": {
          "base_uri": "https://localhost:8080/",
          "height": 466
        }
      },
      "execution_count": 56,
      "outputs": [
        {
          "output_type": "execute_result",
          "data": {
            "text/plain": [
              "Text(0, 0.5, 'Count')"
            ]
          },
          "metadata": {},
          "execution_count": 56
        },
        {
          "output_type": "display_data",
          "data": {
            "text/plain": [
              "<Figure size 640x480 with 1 Axes>"
            ],
            "image/png": "[encoded data removed]"
          },
          "metadata": {}
        }
      ]
    },
    {
      "cell_type": "markdown",
      "source": [
        "####*14.*\n",
        "The sst data has slightly higher(closer to zero) resting potentials than the pvalb data. The sst data is centered between -65 and -70 Volts while the pvalb data is centered between -70 and -75 Volts. The pvalb data also reaches higher(closer to zero) resting potentials than the sst data, and the sst data reaches lower(further from zero) resting potentials than the pvalb data."
      ],
      "metadata": {
        "id": "l4-VnJryw_nu"
      }
    },
    {
      "cell_type": "code",
      "source": [
        "#15. Combine data1 and data2 into a list called data3\n",
        "data3 = [data1, data2]\n",
        "type(data3)"
      ],
      "metadata": {
        "colab": {
          "base_uri": "https://localhost:8080/"
        },
        "id": "4_xvEd4MynvQ",
        "outputId": "9babbafd-4b38-4a3a-9cd0-51f41f96eb2b"
      },
      "execution_count": 57,
      "outputs": [
        {
          "output_type": "execute_result",
          "data": {
            "text/plain": [
              "list"
            ]
          },
          "metadata": {},
          "execution_count": 57
        }
      ]
    },
    {
      "cell_type": "code",
      "source": [
        "#16. Printing the last element of data2 using data3\n",
        "print(data3[1][-1])"
      ],
      "metadata": {
        "colab": {
          "base_uri": "https://localhost:8080/"
        },
        "id": "CNRyCrs00Zmc",
        "outputId": "d6f6fb8e-60e1-431c-c5b4-c62981ab719a"
      },
      "execution_count": 58,
      "outputs": [
        {
          "output_type": "stream",
          "name": "stdout",
          "text": [
            "-54.08427915\n"
          ]
        }
      ]
    }
  ]
}